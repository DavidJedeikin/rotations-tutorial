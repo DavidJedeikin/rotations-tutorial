{
 "cells": [
  {
   "cell_type": "markdown",
   "id": "a0e1b42b",
   "metadata": {},
   "source": [
    "# Introduction"
   ]
  },
  {
   "cell_type": "markdown",
   "id": "e2a99230",
   "metadata": {},
   "source": [
    "The concept of quaternions was first invented by William Hamilton in the mid-1800s. The idea extends the concept of complex numbers to higher dimensions. Let's dive into this a little.\n",
    "\n",
    "A complex number can be represented as $a + bi$, where $i$ is an imaginary unit that satisfies $i^2 = -1$.\n",
    "\n",
    "A quaternion has four dimensions, represented as $a + b\\mathbf{i} + c\\mathbf{j} + d\\mathbf{k}$. A similar rule is found for the basic quaternions: $\\mathbf{i}^2 = \\mathbf{j}^2 = \\mathbf{k}^2 = \\mathbf{ijk} = -1$. \n",
    "\n",
    "We will return to this later on."
   ]
  },
  {
   "cell_type": "markdown",
   "id": "3ebbe059",
   "metadata": {},
   "source": [
    "## Gimbal lock"
   ]
  },
  {
   "cell_type": "markdown",
   "id": "1b859564",
   "metadata": {},
   "source": [
    "As you have previously seen, 3D rotations can be represented by Euler angles. The limitation of this representation is a fundamental issue known as _Gimbal lock_. It is possible to rotate at a particular angle such that two axes of rotation become aligned. At this point one loses a degree of freedom, meaning we may not reach our expected orientation given our rotation angles.\n",
    "\n",
    "This concept is hard to imagine without a visualisation. I recommend watching this [youtube video](https://www.youtube.com/watch?v=zc8b2Jo7mno) in full.\n",
    "\n",
    "As you can see below, by rotating in such a way that the pitch and yaw gimbals are aligned, the roll and yaw axes create the same rotations and a degree of freedom is lost. If we try and convert back to Euler angles, the problem is one-many and is the result is undefined.\n",
    "\n",
    "![gimbal-lock](images/Gimbal_Lock_Plane.gif)\n",
    "\n",
    "The nature of gimbal lock links back in part to our assumption about the order in which we rotate. Opting for a different order of rotation will avoid gimbal lock in certain angles, but the issue will spring back somewhere else. With Tait-Bryan angles the issue arises when pitch approaches $\\pm90^{\\circ}$"
   ]
  },
  {
   "cell_type": "markdown",
   "id": "2f8a31d4",
   "metadata": {},
   "source": [
    "## Quaternions as rotations"
   ]
  },
  {
   "cell_type": "markdown",
   "id": "8ccf07e5",
   "metadata": {},
   "source": [
    "**Complex numbers provide a way of describing 2D rotation**. If we have a 2D vector $m$ show in complex form, we can rotate the vector by the anti-clockwise angle $\\theta$ and stretch it by factor $r$ using the complex number $t$, multiplying t * m.\n",
    "## $$\\begin{align}\n",
    "m &= x + y\\mathbf{i} \\\\\n",
    "t &= rcos(\\theta) + rsin(\\theta)\\mathbf{i}\\\\\n",
    "\\end{align}$$\n",
    "\n",
    "**A quaternion provides an alternative way to represent 3D rotation**. A good intuition is that rather than specifying 3 separate rotations about defined axes, we instead define 1 rotation about a variable axis (the identity of which is contained within the quaternion). \n",
    "\n",
    "To rotate a vector $\\mathbf{p}$ by angle $\\theta$ about a unit vector $\\mathbf{u}$ using a quaternion we must carry out the operation $\\mathbf{q} \\mathbf{p} \\mathbf{q}^{-1}$.\n",
    "\n",
    "## $$\\begin{align}\n",
    "\\mathbf{u} &= \\alpha \\mathbf{i} + \\beta \\mathbf{j} + \\gamma \\mathbf{k} \\\\\n",
    "\\mathbf{q} &= cos(\\theta/2) + sin(\\theta/2)(\\alpha \\mathbf{i} + \\beta \\mathbf{j} + \\gamma \\mathbf{k})\n",
    "\\end{align}$$\n",
    "\n",
    "Crucially, **using quaternions avoids the problem of gimbal lock**. The reasoning for this is nicely explained in [this article](https://jackmin.home.blog/2019/05/25/quaternions-gimbal-lock/)."
   ]
  },
  {
   "cell_type": "markdown",
   "id": "36bb87af",
   "metadata": {},
   "source": [
    "### Converting back to Euler angles"
   ]
  },
  {
   "cell_type": "markdown",
   "id": "4e76a6c4",
   "metadata": {},
   "source": [
    "To convert back to Euler angles, we can use the following equation:\n",
    "\n",
    "## $$\\begin{aligned}\n",
    "\\begin{bmatrix} \\phi \\\\  \\theta \\\\ \\phi \\end{bmatrix} &= \\begin{bmatrix} arctan(\\frac{2(q_0 q_1 + q_2 q_3)}{1-2(q_1^2 + q_2^2)}) \\\\ arcsin(2(q_0 q_2 - q_3 q_1))\\\\ arctan(\\frac{2(q_0 q_3 + q_1 q_2)}{1-2(q_2^2 + q_3^2)}) \\end{bmatrix}\n",
    "\\end{aligned}$$\n",
    "\n",
    "Note that this assumes a certain convention, in this case that we are using Tait-Bryan angles. Alternative conventions (with different rotation ordering) will use a different conversion."
   ]
  }
 ],
 "metadata": {
  "kernelspec": {
   "display_name": "Python 3",
   "language": "python",
   "name": "python3"
  },
  "language_info": {
   "codemirror_mode": {
    "name": "ipython",
    "version": 3
   },
   "file_extension": ".py",
   "mimetype": "text/x-python",
   "name": "python",
   "nbconvert_exporter": "python",
   "pygments_lexer": "ipython3",
   "version": "3.7.8"
  }
 },
 "nbformat": 4,
 "nbformat_minor": 5
}
